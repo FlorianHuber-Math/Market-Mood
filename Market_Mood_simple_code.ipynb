{
  "nbformat": 4,
  "nbformat_minor": 0,
  "metadata": {
    "colab": {
      "name": "Market Mood simple code.ipynb",
      "provenance": [],
      "toc_visible": true,
      "include_colab_link": true
    },
    "kernelspec": {
      "name": "python3",
      "display_name": "Python 3"
    }
  },
  "cells": [
    {
      "cell_type": "markdown",
      "metadata": {
        "id": "view-in-github",
        "colab_type": "text"
      },
      "source": [
        "<a href=\"https://colab.research.google.com/github/FlorianHuber-Math/Market-Mood/blob/master/Market_Mood_simple_code.ipynb\" target=\"_parent\"><img src=\"https://colab.research.google.com/assets/colab-badge.svg\" alt=\"Open In Colab\"/></a>"
      ]
    },
    {
      "cell_type": "code",
      "metadata": {
        "id": "N-vUsQku29Hi",
        "colab_type": "code",
        "colab": {}
      },
      "source": [
        "!pip install newsapi-python\n",
        "!pip install yfinance\n",
        "!pip3 install flair\n",
        "!pip install vaderSentiment\n",
        "!pip install elasticsearch5\n",
        "!pip install elasticsearch\n",
        "!pip install unicode"
      ],
      "execution_count": 0,
      "outputs": []
    },
    {
      "cell_type": "code",
      "metadata": {
        "id": "4KV5CvUYL9uv",
        "colab_type": "code",
        "colab": {}
      },
      "source": [
        "pip install https://github.com/matplotlib/mpl_finance/archive/master.zip"
      ],
      "execution_count": 0,
      "outputs": []
    },
    {
      "cell_type": "code",
      "metadata": {
        "id": "gxG1467Z20PK",
        "colab_type": "code",
        "colab": {}
      },
      "source": [
        "# For web scraping and news\n",
        "from bs4 import BeautifulSoup\n",
        "from newsapi import NewsApiClient\n",
        "import requests\n",
        "# Stock market data\n",
        "import pandas_datareader as web\n",
        "import yfinance as yf\n",
        "import datetime \n",
        "from datetime import datetime, timedelta\n",
        "\n",
        "# Twitter\n",
        "import os\n",
        "import tweepy as tw\n",
        "\n",
        "# General\n",
        "import pandas as pd\n",
        "import re\n",
        "import matplotlib.pyplot as plt\n",
        "import numpy as np\n",
        "import re\n",
        "import argparse\n",
        "import logging\n",
        "# import unicode\n",
        "import unicodedata\n",
        "from tqdm import tqdm\n",
        "\n",
        "# Sentiment analysis\n",
        "import flair\n",
        "import nltk\n",
        "from textblob import TextBlob\n",
        "from vaderSentiment.vaderSentiment import SentimentIntensityAnalyzer\n",
        "\n",
        "import matplotlib.pyplot as plt\n",
        "import matplotlib.dates as mdates\n",
        "import matplotlib.ticker as mticker\n",
        "from mpl_finance import candlestick_ohlc\n",
        "from matplotlib import style\n",
        "import io\n",
        "import time "
      ],
      "execution_count": 0,
      "outputs": []
    },
    {
      "cell_type": "markdown",
      "metadata": {
        "id": "ptOSyY6u3lX_",
        "colab_type": "text"
      },
      "source": [
        "Import Flair Database"
      ]
    },
    {
      "cell_type": "code",
      "metadata": {
        "id": "0UzibQQ13klu",
        "colab_type": "code",
        "colab": {}
      },
      "source": [
        "flair_sentiment = flair.models.TextClassifier.load('en-sentiment')"
      ],
      "execution_count": 0,
      "outputs": []
    },
    {
      "cell_type": "markdown",
      "metadata": {
        "id": "Hnzedpy163OG",
        "colab_type": "text"
      },
      "source": [
        "NewsAPI key"
      ]
    },
    {
      "cell_type": "code",
      "metadata": {
        "id": "0Yla_iph65gA",
        "colab_type": "code",
        "colab": {}
      },
      "source": [
        "# Init\n",
        "newsapi = NewsApiClient(api_key='')"
      ],
      "execution_count": 0,
      "outputs": []
    },
    {
      "cell_type": "markdown",
      "metadata": {
        "id": "QLnS06yG655J",
        "colab_type": "text"
      },
      "source": [
        "Twitter API key"
      ]
    },
    {
      "cell_type": "code",
      "metadata": {
        "id": "6RYNxRJO68Vx",
        "colab_type": "code",
        "colab": {}
      },
      "source": [
        "consumer_key = ''\n",
        "consumer_secret = ''\n",
        "access_token = ''\n",
        "access_token_secret = ''"
      ],
      "execution_count": 0,
      "outputs": []
    },
    {
      "cell_type": "markdown",
      "metadata": {
        "id": "DHxrZB7T-_u4",
        "colab_type": "text"
      },
      "source": [
        "**Input**"
      ]
    },
    {
      "cell_type": "code",
      "metadata": {
        "id": "Q3Jjcvbg_B6y",
        "colab_type": "code",
        "colab": {}
      },
      "source": [
        "Input = 'AAPL'\n",
        "Start_Date = '2019-01-01'"
      ],
      "execution_count": 0,
      "outputs": []
    },
    {
      "cell_type": "markdown",
      "metadata": {
        "id": "J-fgH7RA3sU1",
        "colab_type": "text"
      },
      "source": [
        "# News Scraping (currently not used)"
      ]
    },
    {
      "cell_type": "code",
      "metadata": {
        "id": "z5JsXVuS3qXk",
        "colab_type": "code",
        "colab": {}
      },
      "source": [
        "def reuters_scraper(ticker, exchange):\n",
        "\n",
        "  # Find the hyperlinks to the first 20 articles\n",
        "  links = []\n",
        "  r = requests.get('https://www.reuters.com/companies/'+ticker+'.'+exchange+'/news')\n",
        "  soup = BeautifulSoup(r.text, 'html.parser')\n",
        "  #results = soup.find_all('a', attrs={'class':'TextLabel__text-label___3oCVw TextLabel__black-to-orange___23uc0 TextLabel__medium___t9PWg MarketStoryItem-headline-2cgfz'})\n",
        "  links = soup.find_all('a')\n",
        "  urls = []\n",
        "  for link in links:\n",
        "      url  = link.get('href') \n",
        "      if 'article' in url:\n",
        "        if 'zendesk' not in url:\n",
        "          urls.append(url)\n",
        "  df = pd.DataFrame(columns=['Title', 'date', 'description'])\n",
        "\n",
        "  for url in urls:\n",
        "    r = requests.get(url)\n",
        "    soup_2 = BeautifulSoup(r.text, 'html.parser')\n",
        "    data = soup_2.find_all( 'script', type='application/ld+json')\n",
        "    list_of_atrributes = str(data[0].contents).split(',\\\\n')\n",
        "    attributes = []\n",
        "    for i in range(0,len(list_of_atrributes)):\n",
        "      if '\"headline\"' in list_of_atrributes[i]:\n",
        "        list_of_atrributes[i] = list_of_atrributes[i].lstrip(' ')\n",
        "        list_of_atrributes[i] = list_of_atrributes[i].replace('\"headline\": ','')\n",
        "        list_of_atrributes[i] = list_of_atrributes[i].replace('\"','')\n",
        "        list_of_atrributes[i] = list_of_atrributes[i].replace('&#039;','')\n",
        "        attributes.append(list_of_atrributes[i])\n",
        "      if '\"dateCreated\"' in list_of_atrributes[i]:\n",
        "        list_of_atrributes[i] = list_of_atrributes[i].lstrip(' ')\n",
        "        list_of_atrributes[i] = list_of_atrributes[i].replace('\"dateCreated\":','')\n",
        "        list_of_atrributes[i] = list_of_atrributes[i].replace('\"','')\n",
        "        list_of_atrributes[i] = list_of_atrributes[i].replace('&#039;','')\n",
        "        attributes.append(list_of_atrributes[i][0:11])\n",
        "      if '\"description\"' in list_of_atrributes[i]:\n",
        "        list_of_atrributes[i] = list_of_atrributes[i].lstrip(' ')\n",
        "        list_of_atrributes[i] = list_of_atrributes[i].replace('\"description\":','')\n",
        "        list_of_atrributes[i] = list_of_atrributes[i].replace('\"','')\n",
        "        list_of_atrributes[i] = list_of_atrributes[i].replace('\\\\','')\n",
        "        attributes.append(list_of_atrributes[i])\n",
        "    print(attributes)\n",
        "    df = df.append(pd.Series(attributes, index=['Title', 'date', 'description']), ignore_index=True)        \n",
        "\n",
        "  return df"
      ],
      "execution_count": 0,
      "outputs": []
    },
    {
      "cell_type": "markdown",
      "metadata": {
        "id": "2uDtvEcW4H17",
        "colab_type": "text"
      },
      "source": [
        "Convert date into datetime"
      ]
    },
    {
      "cell_type": "code",
      "metadata": {
        "id": "pikyk3rd4LSV",
        "colab_type": "code",
        "colab": {}
      },
      "source": [
        "def convert_date_to_datetime_for_scraper(df,date_column):\n",
        "  for i in range(0,len(df[date_column])):\n",
        "    df[date_column][i] = datetime(int(df[date_column][i][1:5]) , int(df[date_column][i][6:8]) ,int(df[date_column][i][9:11]))\n",
        "  return df\n",
        "  "
      ],
      "execution_count": 0,
      "outputs": []
    },
    {
      "cell_type": "markdown",
      "metadata": {
        "id": "mXAZBiZh33_C",
        "colab_type": "text"
      },
      "source": [
        "# News API request"
      ]
    },
    {
      "cell_type": "code",
      "metadata": {
        "id": "1GJap1O533LT",
        "colab_type": "code",
        "colab": {}
      },
      "source": [
        "Stock = yf.Ticker(Input)\n",
        "Short_name = Stock.info.get('shortName')\n",
        "Short_name_original = Short_name\n",
        "\n",
        "# Clean the short name\n",
        "Short_name = Short_name.replace('Inc.','')\n",
        "Short_name = Short_name.replace('Company','')\n",
        "Short_name = Short_name.rstrip()\n",
        "\n",
        "\n",
        "# /v2/top-headlines\n",
        "News_bloomberg_ticker = newsapi.get_everything(q=Input,sources = 'bloomberg')\n",
        "News_reuters_ticker = newsapi.get_everything(q=Input,sources = 'reuters')\n",
        "News_cnbc_ticker = newsapi.get_everything(q=Input,sources = 'cnbc')\n",
        "News_google_ticker = newsapi.get_everything(q=Input,sources = 'google-news')"
      ],
      "execution_count": 0,
      "outputs": []
    },
    {
      "cell_type": "code",
      "metadata": {
        "id": "L8zgFkB643K3",
        "colab_type": "code",
        "colab": {}
      },
      "source": [
        "News_df = pd.DataFrame(News_bloomberg_ticker.get('articles'))\n",
        "News_df_reuters = pd.DataFrame(News_reuters_ticker.get('articles'))\n",
        "News_df_cnbc = pd.DataFrame(News_cnbc_ticker.get('articles'))\n",
        "News_df = News_df.append(News_df_reuters, ignore_index=True)\n",
        "News_df = News_df.append(News_df_cnbc, ignore_index=True)"
      ],
      "execution_count": 0,
      "outputs": []
    },
    {
      "cell_type": "markdown",
      "metadata": {
        "id": "nm5aV9fK5GsA",
        "colab_type": "text"
      },
      "source": [
        "Convert date to datetime"
      ]
    },
    {
      "cell_type": "code",
      "metadata": {
        "id": "SgajSaLY5I8u",
        "colab_type": "code",
        "colab": {}
      },
      "source": [
        "def convert_date_to_datetime_for_news_api(News_df,publishedAt):\n",
        "  dates = News_df[publishedAt]\n",
        "  count = 0\n",
        "  for date in dates:\n",
        "    year = int(date[0:4])\n",
        "    month = int(date[5:7])\n",
        "    day = int(date[8:10])\n",
        "    hour = int(date[11:13])\n",
        "    minute = int(date[14:16])\n",
        "    temp = datetime(year,month,day,0,0)\n",
        "    # uncomment in case of minute stock data\n",
        "    # temp = datetime(year,month,day,hour,minute) \n",
        "    News_df[publishedAt][count] = temp\n",
        "    count = count + 1\n",
        "  return News_df"
      ],
      "execution_count": 0,
      "outputs": []
    },
    {
      "cell_type": "code",
      "metadata": {
        "id": "zBO6j5-kAbqP",
        "colab_type": "code",
        "colab": {}
      },
      "source": [
        "News_df = convert_date_to_datetime_for_news_api(News_df,'publishedAt')"
      ],
      "execution_count": 0,
      "outputs": []
    },
    {
      "cell_type": "code",
      "metadata": {
        "id": "_dYuzIhPnMlq",
        "colab_type": "code",
        "colab": {}
      },
      "source": [
        "# Get date of the first article\n",
        "Oldest_article_dt_pre = News_df['publishedAt'].min()"
      ],
      "execution_count": 0,
      "outputs": []
    },
    {
      "cell_type": "markdown",
      "metadata": {
        "id": "OKQqdaVj6fqR",
        "colab_type": "text"
      },
      "source": [
        "# Twitter"
      ]
    },
    {
      "cell_type": "code",
      "metadata": {
        "id": "pieQoZmNAt4h",
        "colab_type": "code",
        "colab": {}
      },
      "source": [
        "auth = tw.OAuthHandler(consumer_key, consumer_secret)\n",
        "auth.set_access_token(access_token, access_token_secret)\n",
        "api = tw.API(auth, wait_on_rate_limit=True)\n"
      ],
      "execution_count": 0,
      "outputs": []
    },
    {
      "cell_type": "code",
      "metadata": {
        "id": "mpCGt0R26hrq",
        "colab_type": "code",
        "colab": {}
      },
      "source": [
        "search_words = str(Input)+'-filter:retweets'\n",
        "date_since = Start_Date"
      ],
      "execution_count": 0,
      "outputs": []
    },
    {
      "cell_type": "code",
      "metadata": {
        "id": "6EYc3kTt8bf1",
        "colab_type": "code",
        "colab": {}
      },
      "source": [
        "# Collect tweets\n",
        "tweets = tw.Cursor(api.search,\n",
        "              q=search_words,\n",
        "              lang=\"en\",\n",
        "              since=date_since).items(1000)\n",
        "\n",
        "    \n"
      ],
      "execution_count": 0,
      "outputs": []
    },
    {
      "cell_type": "code",
      "metadata": {
        "id": "KtZ5be9X8yqY",
        "colab_type": "code",
        "colab": {}
      },
      "source": [
        "tweet_date = [[tweet.text, tweet.created_at] for tweet in tweets]"
      ],
      "execution_count": 0,
      "outputs": []
    },
    {
      "cell_type": "code",
      "metadata": {
        "id": "zRhUnN3r9VNz",
        "colab_type": "code",
        "colab": {}
      },
      "source": [
        "twitter_df = pd.DataFrame(data=tweet_date, \n",
        "                    columns=['Tweet', 'Date'])"
      ],
      "execution_count": 0,
      "outputs": []
    },
    {
      "cell_type": "markdown",
      "metadata": {
        "id": "Mt6oUxDCfUlZ",
        "colab_type": "text"
      },
      "source": [
        "**Tweets from list of accounts**"
      ]
    },
    {
      "cell_type": "code",
      "metadata": {
        "id": "57CAVrodeCwu",
        "colab_type": "code",
        "colab": {}
      },
      "source": [
        "Twitter_list =[28164923,1754641,21328656]\n",
        "\n",
        "# [14886375,20402945,44060322,28571999,15897179,28164923,1754641,21328656],"
      ],
      "execution_count": 0,
      "outputs": []
    },
    {
      "cell_type": "code",
      "metadata": {
        "id": "QhQSGoWEk-31",
        "colab_type": "code",
        "colab": {}
      },
      "source": [
        "today = datetime.today()\n",
        "first = today.replace(day=1)\n",
        "lastMonth = first - timedelta(days=1)"
      ],
      "execution_count": 0,
      "outputs": []
    },
    {
      "cell_type": "code",
      "metadata": {
        "id": "VLsrPjjGfX_T",
        "colab_type": "code",
        "colab": {}
      },
      "source": [
        "all_tweets_by_list = []\n",
        "for id_number in Twitter_list:\n",
        "  tweets = tw.Cursor(api.user_timeline, id=id_number, since=str(lastMonth), include_rts=False, exclude_replies=False).items(100)\n",
        "  for tweet in tweets:\n",
        "    if Input in str(tweet):\n",
        "      all_tweets_by_list.append([tweet.text, tweet.created_at])\n",
        "    "
      ],
      "execution_count": 0,
      "outputs": []
    },
    {
      "cell_type": "code",
      "metadata": {
        "id": "AXO-iZnYlAne",
        "colab_type": "code",
        "colab": {}
      },
      "source": [
        "twitter_df_selected = pd.DataFrame(data=all_tweets_by_list, \n",
        "                    columns=['Tweet', 'Date'])"
      ],
      "execution_count": 0,
      "outputs": []
    },
    {
      "cell_type": "code",
      "metadata": {
        "id": "dad77vAA9lNG",
        "colab_type": "code",
        "colab": {}
      },
      "source": [
        "def remove_url(txt):\n",
        "    \"\"\"Replace URLs found in a text string with nothing \n",
        "    (i.e. it will remove the URL from the string).\n",
        "\n",
        "    Parameters\n",
        "    ----------\n",
        "    txt : string\n",
        "        A text string that you want to parse and remove urls.\n",
        "\n",
        "    Returns\n",
        "    -------\n",
        "    The same txt string with url's removed.\n",
        "    \"\"\"\n",
        "\n",
        "    return \" \".join(re.sub(\"([^0-9A-Za-z \\t])|(\\w+:\\/\\/\\S+)\", \"\", txt).split())\n"
      ],
      "execution_count": 0,
      "outputs": []
    },
    {
      "cell_type": "code",
      "metadata": {
        "id": "-1NGnJqU9l_F",
        "colab_type": "code",
        "colab": {}
      },
      "source": [
        "for i in range(0,len(twitter_df['Tweet'])):  \n",
        "  twitter_df['Tweet'][i] = remove_url(twitter_df['Tweet'][i])\n",
        "  \n",
        "for i in range(0,len(twitter_df_selected['Tweet'])):  \n",
        "  twitter_df_selected['Tweet'][i] = remove_url(twitter_df_selected['Tweet'][i])"
      ],
      "execution_count": 0,
      "outputs": []
    },
    {
      "cell_type": "code",
      "metadata": {
        "id": "TdsiJDa9AUEQ",
        "colab_type": "code",
        "outputId": "d2fe210d-da7e-4436-c754-3cfa9962b157",
        "colab": {
          "base_uri": "https://localhost:8080/"
        }
      },
      "source": [
        "type(twitter_df_selected['Date'].min().to_pydatetime())"
      ],
      "execution_count": 0,
      "outputs": [
        {
          "output_type": "execute_result",
          "data": {
            "text/plain": [
              "datetime.datetime"
            ]
          },
          "metadata": {
            "tags": []
          },
          "execution_count": 118
        }
      ]
    },
    {
      "cell_type": "code",
      "metadata": {
        "id": "bF_6Xf0EA0Xx",
        "colab_type": "code",
        "outputId": "5b7406f9-688b-4f5b-9345-52ae7999a169",
        "colab": {
          "base_uri": "https://localhost:8080/"
        }
      },
      "source": [
        "type(News_df['publishedAt'].min())"
      ],
      "execution_count": 0,
      "outputs": [
        {
          "output_type": "execute_result",
          "data": {
            "text/plain": [
              "datetime.datetime"
            ]
          },
          "metadata": {
            "tags": []
          },
          "execution_count": 119
        }
      ]
    },
    {
      "cell_type": "code",
      "metadata": {
        "id": "3Ytl2-IVBCca",
        "colab_type": "code",
        "outputId": "896ea68d-95ba-4fb5-829d-d36ee16a9426",
        "colab": {
          "base_uri": "https://localhost:8080/"
        }
      },
      "source": [
        "str(min([News_df['publishedAt'].min(),twitter_df_selected['Date'].min().to_pydatetime()]))"
      ],
      "execution_count": 0,
      "outputs": [
        {
          "output_type": "execute_result",
          "data": {
            "text/plain": [
              "'2019-09-05 00:00:00'"
            ]
          },
          "metadata": {
            "tags": []
          },
          "execution_count": 120
        }
      ]
    },
    {
      "cell_type": "markdown",
      "metadata": {
        "id": "1Ti2Cyqa5nq6",
        "colab_type": "text"
      },
      "source": [
        "# Get stock data"
      ]
    },
    {
      "cell_type": "markdown",
      "metadata": {
        "id": "R0rmtJtnluyz",
        "colab_type": "text"
      },
      "source": [
        "Get first date twitter selected"
      ]
    },
    {
      "cell_type": "code",
      "metadata": {
        "id": "qPauLeuW5nBQ",
        "colab_type": "code",
        "colab": {}
      },
      "source": [
        "start_date = min([Oldest_article_dt_pre,twitter_df_selected['Date'].min().to_pydatetime()])\n",
        "start_date = str(start_date)[0:10]\n",
        "\n",
        "df_stock = web.DataReader(Input, 'yahoo', start_date, Newest_article_date)\n",
        "\n"
      ],
      "execution_count": 0,
      "outputs": []
    },
    {
      "cell_type": "markdown",
      "metadata": {
        "id": "ci7QJRGn5uZ4",
        "colab_type": "text"
      },
      "source": [
        "# Get Sentiment"
      ]
    },
    {
      "cell_type": "code",
      "metadata": {
        "id": "MVkBdG4X5w83",
        "colab_type": "code",
        "colab": {}
      },
      "source": [
        "def get_stock_sentiment(news):\n",
        "  sentiment = 0\n",
        "  # work on that\n",
        "  s = flair.data.Sentence(news)\n",
        "  flair_sentiment.predict(s)\n",
        "  total_sentiment = s.labels\n",
        "  \n",
        "  \n",
        "  return str(total_sentiment)"
      ],
      "execution_count": 0,
      "outputs": []
    },
    {
      "cell_type": "code",
      "metadata": {
        "id": "F3TyP6l455GJ",
        "colab_type": "code",
        "colab": {}
      },
      "source": [
        "def sentiment_in_df(News_df, text_column):\n",
        "  News_df['Sentiment']=0\n",
        "  for index_news in tqdm(range(0,len(News_df.index))):\n",
        "    temp_sentiment = get_stock_sentiment(News_df[text_column][index_news])\n",
        "    string = temp_sentiment\n",
        "    if 'NEGATIVE' in temp_sentiment:\n",
        "      sentiment_value = '-' + re.findall(\"\\d+\\.\\d+\", string)[0]\n",
        "      sentiment_value = float(sentiment_value)\n",
        "      News_df.loc[ News_df.index[index_news],'Sentiment'] = sentiment_value\n",
        "    if 'POSITIVE' in temp_sentiment:\n",
        "      sentiment_value = re.findall(\"\\d+\\.\\d+\", string)[0]\n",
        "      sentiment_value = float(sentiment_value)\n",
        "      News_df.loc[ News_df.index[index_news],'Sentiment'] = sentiment_value\n",
        "  return News_df"
      ],
      "execution_count": 0,
      "outputs": []
    },
    {
      "cell_type": "code",
      "metadata": {
        "id": "ZoXrY5UJ6DHu",
        "colab_type": "code",
        "outputId": "070d127a-c303-4487-bff4-c71c0a577bbb",
        "colab": {
          "base_uri": "https://localhost:8080/",
          "height": 36
        }
      },
      "source": [
        "News_df = sentiment_in_df(News_df, 'description')\n",
        "# Average over the sentiments for each day\n",
        "News_df = News_df.groupby([News_df['publishedAt'].dt.date])['Sentiment'].mean()"
      ],
      "execution_count": 37,
      "outputs": [
        {
          "output_type": "stream",
          "text": [
            "100%|██████████| 21/21 [00:26<00:00,  1.01it/s]\n"
          ],
          "name": "stderr"
        }
      ]
    },
    {
      "cell_type": "code",
      "metadata": {
        "id": "Q7AA64PsGh9z",
        "colab_type": "code",
        "outputId": "0e91369a-7b27-4d82-a1cc-f116bc1bf898",
        "colab": {
          "base_uri": "https://localhost:8080/",
          "height": 36
        }
      },
      "source": [
        "twitter_df = sentiment_in_df(twitter_df, 'Tweet')\n",
        "# Average over the sentiments for each day\n",
        "twitter_df = twitter_df.groupby([twitter_df['Date'].dt.date])['Sentiment'].mean()"
      ],
      "execution_count": 38,
      "outputs": [
        {
          "output_type": "stream",
          "text": [
            "100%|██████████| 1000/1000 [13:26<00:00,  1.31it/s]\n"
          ],
          "name": "stderr"
        }
      ]
    },
    {
      "cell_type": "code",
      "metadata": {
        "id": "MKtxh-lOrwHM",
        "colab_type": "code",
        "outputId": "97f3d96f-2943-4a85-d16f-001e42668dc4",
        "colab": {
          "base_uri": "https://localhost:8080/",
          "height": 36
        }
      },
      "source": [
        "twitter_df_selected = sentiment_in_df(twitter_df_selected, 'Tweet')\n",
        "# Average over the sentiments for each day\n",
        "twitter_df_selected = twitter_df_selected.groupby([twitter_df_selected['Date'].dt.date])['Sentiment'].mean()"
      ],
      "execution_count": 39,
      "outputs": [
        {
          "output_type": "stream",
          "text": [
            "100%|██████████| 1/1 [00:01<00:00,  1.51s/it]\n"
          ],
          "name": "stderr"
        }
      ]
    },
    {
      "cell_type": "code",
      "metadata": {
        "id": "QjL3QOWUGznS",
        "colab_type": "code",
        "colab": {}
      },
      "source": [
        "df_stock['Sentiment News'] = 0\n",
        "df_stock['Sentiment Twitter'] = 0\n",
        "df_stock['Sentiment Twitter Selected'] = 0"
      ],
      "execution_count": 0,
      "outputs": []
    },
    {
      "cell_type": "markdown",
      "metadata": {
        "id": "UDZnQVLL6Oxt",
        "colab_type": "text"
      },
      "source": [
        "**For testing purposes**"
      ]
    },
    {
      "cell_type": "code",
      "metadata": {
        "id": "kfvFRFfL6JL-",
        "colab_type": "code",
        "colab": {}
      },
      "source": [
        "# the function takes df_stock and the averaged versions of News_df and twitter_df as input together with the respective column\n",
        "\n",
        "def update_sentiment_columns(df_to_update,df_with_sentiment,update_column):\n",
        "  for index_update in range(0,len(df_to_update.index)):\n",
        "    for index_sentiment in range(0,len(df_with_sentiment.index)):\n",
        "      if df_to_update.index[index_update].to_pydatetime().date() == df_with_sentiment.index[index_sentiment]:\n",
        "        df_to_update.loc[ df_to_update.index[index_update],update_column] = df_with_sentiment[index_sentiment]\n",
        "  return df_to_update\n"
      ],
      "execution_count": 0,
      "outputs": []
    },
    {
      "cell_type": "code",
      "metadata": {
        "id": "L7ZU-vAbS6Cg",
        "colab_type": "code",
        "colab": {}
      },
      "source": [
        "df_stock = update_sentiment_columns(df_stock,News_df,'Sentiment News')\n",
        "df_stock = update_sentiment_columns(df_stock,twitter_df,'Sentiment Twitter')\n",
        "df_stock = update_sentiment_columns(df_stock,twitter_df_selected,'Sentiment Twitter Selected')\n"
      ],
      "execution_count": 0,
      "outputs": []
    },
    {
      "cell_type": "code",
      "metadata": {
        "id": "MGMs6e7f6YpY",
        "colab_type": "code",
        "colab": {}
      },
      "source": [
        "df_stock['Percentage change price']=df_stock['Adj Close'].pct_change()\n",
        "df_stock['Percentage change Sentiment News']=df_stock['Sentiment News'].pct_change()\n",
        "df_stock['Percentage change Sentiment Twitter']=df_stock['Sentiment Twitter'].pct_change()\n",
        "df_stock['Percentage change Sentiment Twitter Selected']=df_stock['Sentiment Twitter Selected'].pct_change()"
      ],
      "execution_count": 0,
      "outputs": []
    },
    {
      "cell_type": "code",
      "metadata": {
        "id": "_l1pfSBq6ZiY",
        "colab_type": "code",
        "colab": {}
      },
      "source": [
        "df_stock = df_stock.replace(np.inf,1)\n",
        "df_stock = df_stock.replace(-np.inf,1)\n",
        "df_stock = df_stock.fillna(0)"
      ],
      "execution_count": 0,
      "outputs": []
    },
    {
      "cell_type": "code",
      "metadata": {
        "id": "2tS32QWO6bi-",
        "colab_type": "code",
        "outputId": "26e43a88-f97f-4978-98c0-c85218ee6271",
        "colab": {
          "base_uri": "https://localhost:8080/",
          "height": 318
        }
      },
      "source": [
        "ax = plt.gca()\n",
        "\n",
        "df_stock.plot(kind='line',y='Percentage change price',ax=ax)\n",
        "df_stock.plot(kind='line',y='Percentage change Sentiment News', color='red', ax=ax, secondary_y = True)\n",
        "df_stock.plot(kind='line',y='Percentage change Sentiment Twitter', color='red', ax=ax, secondary_y = True)\n",
        "df_stock.plot(kind='line',y='Percentage change Sentiment Twitter Selected', color='red', ax=ax, secondary_y = True)\n",
        "\n",
        "plt.show()"
      ],
      "execution_count": 53,
      "outputs": [
        {
          "output_type": "display_data",
          "data": {
            "image/png": "[encoded data removed]",
            "text/plain": [
              "<Figure size 432x288 with 2 Axes>"
            ]
          },
          "metadata": {
            "tags": []
          }
        }
      ]
    },
    {
      "cell_type": "code",
      "metadata": {
        "id": "O6ZrmU4iFh2Z",
        "colab_type": "code",
        "outputId": "083d39a1-e3f9-47a4-9da6-4e5e6980484a",
        "colab": {
          "base_uri": "https://localhost:8080/",
          "height": 658
        }
      },
      "source": [
        "labels = ['Percentage change price','Sentiment Twitter Selected', 'Sentiment News']\n",
        "dat = df_stock[labels]\n",
        "axes = dat.plot(kind='line',rot=0,lw=2,colormap='jet',figsize=(12,10),\n",
        "             title='Sample title', subplots=True, layout=(3,1))\n",
        "\n",
        "plt.show()"
      ],
      "execution_count": 54,
      "outputs": [
        {
          "output_type": "display_data",
          "data": {
            "image/png": "[encoded data removed]",
            "text/plain": [
              "<Figure size 864x720 with 3 Axes>"
            ]
          },
          "metadata": {
            "tags": []
          }
        }
      ]
    },
    {
      "cell_type": "code",
      "metadata": {
        "id": "lOOpP_OeM9rT",
        "colab_type": "code",
        "colab": {}
      },
      "source": [
        "df_stock_copy = df_stock.copy()\n",
        "df_stock_copy.reset_index(level=0, inplace=True)\n",
        "\n",
        "ohlc= df_stock_copy[['Date','Open', 'High', 'Low','Close']].copy()\n",
        "ohlc\n",
        "for i in range(0,len(ohlc['Date'])):\n",
        "  ohlc['Date'][i] = ohlc['Date'][i].date().toordinal()\n",
        "  "
      ],
      "execution_count": 0,
      "outputs": []
    },
    {
      "cell_type": "code",
      "metadata": {
        "id": "x7z_ds9eTmf4",
        "colab_type": "code",
        "colab": {
          "base_uri": "https://localhost:8080/",
          "height": 301
        },
        "outputId": "1a720f57-8588-4a51-bffb-8050ff3cc2ba"
      },
      "source": [
        "f1, ax = plt.subplots(3)\n",
        "candlestick_ohlc(ax[0], ohlc.values, width=.6, colorup='green', colordown='red')\n",
        "ax[0].xaxis.set_major_formatter(mdates.DateFormatter('%Y-%m'))\n",
        "\n",
        "# Creating SMA columns\n",
        "ohlc['SMA5'] = ohlc[\"Close\"].rolling(5).mean()\n",
        "ohlc['SMA10'] = ohlc[\"Close\"].rolling(10).mean()\n",
        "ohlc['SMA20'] = ohlc[\"Close\"].rolling(20).mean()\n",
        "ohlc['SMA50'] = ohlc[\"Close\"].rolling(50).mean()\n",
        "ohlc['SMA100'] = ohlc[\"Close\"].rolling(100).mean()\n",
        "ohlc['SMA200'] = ohlc[\"Close\"].rolling(200).mean()\n",
        "\n",
        "#Plotting SMA columns\n",
        "# ax.plot(ohlc['Date'], ohlc['SMA5'], color = 'blue', label = 'SMA5')\n",
        "# ax.plot(ohlc['Date'], ohlc['SMA10'], color = 'blue', label = 'SMA10')\n",
        "# ax.plot(ohlc['Date'], ohlc['SMA20'], color = 'blue', label = 'SMA20')\n",
        "ax[0].plot(ohlc['Date'], ohlc['SMA50'], color = 'green', label = 'SMA50')\n",
        "# ax.plot(ohlc.index, df['SMA100'], color = 'blue', label = 'SMA100')\n",
        "ax[0].plot(ohlc['Date'], ohlc['SMA200'], color = 'blue', label = 'SMA200')\n",
        "\n",
        "ax[1].plot(df_stock.index,df_stock['Sentiment Twitter Selected'])\n",
        "ax[2].plot(ohlc['Date'],df_stock['Sentiment News'])\n",
        "\n",
        "#plt.savefig('/content/new_image.png')\n",
        "bytes_image = io.BytesIO()\n",
        "plt.savefig(bytes_image, format='png')\n",
        "bytes_image.seek(0)\n",
        "#send_file(bytes_obj,attachment_filename='plot.png',mimetype='images/png')\n",
        "#plt.show()"
      ],
      "execution_count": 56,
      "outputs": [
        {
          "output_type": "execute_result",
          "data": {
            "text/plain": [
              "0"
            ]
          },
          "metadata": {
            "tags": []
          },
          "execution_count": 56
        },
        {
          "output_type": "display_data",
          "data": {
            "image/png": "[encoded data removed]",
            "text/plain": [
              "<Figure size 432x288 with 3 Axes>"
            ]
          },
          "metadata": {
            "tags": []
          }
        }
      ]
    }
  ]
}